{
 "cells": [
  {
   "cell_type": "code",
   "execution_count": 6,
   "metadata": {},
   "outputs": [],
   "source": [
    "import pandas as pd\n",
    "import re"
   ]
  },
  {
   "cell_type": "code",
   "execution_count": 7,
   "metadata": {},
   "outputs": [],
   "source": [
    "products = pd.read_csv('./Dataset/Amazon_Products.csv')\n",
    "market_cap = pd.read_csv('./Dataset/Market_Cap.csv')\n",
    "revenue = pd.read_csv('./Dataset/Revenue.csv')\n",
    "\n",
    "del products['Unnamed: 0']"
   ]
  },
  {
   "cell_type": "code",
   "execution_count": 8,
   "metadata": {},
   "outputs": [],
   "source": [
    "df = pd.merge(market_cap, revenue, on='Name', how='inner').drop(['Rank_x', 'Rank_y', 'Symbol_y', 'country_y', 'price (USD)_y'], axis=1)"
   ]
  },
  {
   "cell_type": "code",
   "execution_count": 9,
   "metadata": {},
   "outputs": [],
   "source": [
    "df.columns = ['brand', 'Symbol', 'marketcap', 'price (USD)', 'country', 'revenue_ttm']"
   ]
  },
  {
   "cell_type": "code",
   "execution_count": 10,
   "metadata": {},
   "outputs": [
    {
     "name": "stderr",
     "output_type": "stream",
     "text": [
      "<>:1: SyntaxWarning: invalid escape sequence '\\('\n",
      "<>:1: SyntaxWarning: invalid escape sequence '\\('\n",
      "/var/folders/bt/smkkfpmx06961p03z9_f5gyr0000gn/T/ipykernel_3266/1172336472.py:1: SyntaxWarning: invalid escape sequence '\\('\n",
      "  df['brand'] = df['brand'].str.extract('\\((.*?)\\)', expand=False).fillna(df['brand'])\n"
     ]
    }
   ],
   "source": [
    "df['brand'] = df['brand'].str.extract('\\((.*?)\\)', expand=False).fillna(df['brand'])\n",
    "df['brand'] = df['brand'].str.lower().str.capitalize()"
   ]
  },
  {
   "cell_type": "markdown",
   "metadata": {},
   "source": [
    "## Pre-processing"
   ]
  },
  {
   "cell_type": "code",
   "execution_count": 11,
   "metadata": {},
   "outputs": [],
   "source": [
    "# Removing the ₹ sign\n",
    "products[\"discount_price\"] = products[\"discount_price\"].str.split(\" \", expand = True).get(0).str.split(\"₹\", expand = True).get(1)\n",
    "products[\"actual_price\"] = products[\"actual_price\"].str.split(\" \", expand = True).get(0).str.split(\"₹\", expand = True).get(1)\n",
    "\n",
    "# Change commas to dots and change the type to float\n",
    "products['discount_price'] = products[\"discount_price\"].str.replace(',', '').astype(float)\n",
    "products[\"actual_price\"] = products[\"actual_price\"].str.replace(',', '').astype(float)"
   ]
  },
  {
   "cell_type": "code",
   "execution_count": 12,
   "metadata": {},
   "outputs": [
    {
     "data": {
      "text/plain": [
       "array(['4.2', '4.0', '4.1', '4.3', '3.9', '3.8', '3.5', nan, '4.6', '3.3',\n",
       "       '3.4', '3.7', '2.9', '5.0', '4.4', '3.6', '2.7', '4.5', '3.0',\n",
       "       '3.1', '3.2', '4.8', '4.7', '2.5', '1.0', '2.6', '2.8', '2.3',\n",
       "       '1.7', 'Get', '1.8', '2.4', '4.9', '2.2', '1.6', '1.9', '2.0',\n",
       "       '1.4', '2.1', 'FREE', '1.2', '1.3', '1.5', '₹68.99', '₹65', '1.1',\n",
       "       '₹70', '₹100', '₹99', '₹2.99'], dtype=object)"
      ]
     },
     "execution_count": 12,
     "metadata": {},
     "output_type": "execute_result"
    }
   ],
   "source": [
    "products['ratings'].unique()"
   ]
  },
  {
   "cell_type": "code",
   "execution_count": 13,
   "metadata": {},
   "outputs": [
    {
     "data": {
      "text/plain": [
       "array([4.2, 4. , 4.1, 4.3, 3.9, 3.8, 3.5, nan, 4.6, 3.3, 3.4, 3.7, 2.9,\n",
       "       5. , 4.4, 3.6, 2.7, 4.5, 3. , 3.1, 3.2, 4.8, 4.7, 2.5, 1. , 2.6,\n",
       "       2.8, 2.3, 1.7, 0. , 1.8, 2.4, 4.9, 2.2, 1.6, 1.9, 2. , 1.4, 2.1,\n",
       "       1.2, 1.3, 1.5, 1.1])"
      ]
     },
     "execution_count": 13,
     "metadata": {},
     "output_type": "execute_result"
    }
   ],
   "source": [
    "# Replace certain values in the 'ratings' column of the 'products' dataframe with '0.0'\n",
    "products['ratings'] = products['ratings'].replace(['Get','FREE','₹68.99', '₹65','₹70', '₹100', '₹99', '₹2.99'], '0.0')\n",
    "products['ratings'] = products[\"ratings\"].astype(float)\n",
    "products['ratings'].unique()"
   ]
  },
  {
   "cell_type": "code",
   "execution_count": 14,
   "metadata": {},
   "outputs": [
    {
     "data": {
      "text/plain": [
       "0         2,255\n",
       "1         2,948\n",
       "2         1,206\n",
       "3            69\n",
       "4           630\n",
       "          ...  \n",
       "551580        9\n",
       "551581        2\n",
       "551582        1\n",
       "551583       37\n",
       "551584        5\n",
       "Name: no_of_ratings, Length: 551585, dtype: object"
      ]
     },
     "execution_count": 14,
     "metadata": {},
     "output_type": "execute_result"
    }
   ],
   "source": [
    "products.no_of_ratings"
   ]
  },
  {
   "cell_type": "code",
   "execution_count": 15,
   "metadata": {},
   "outputs": [],
   "source": [
    "# Filters products with numeric ratings\n",
    "products = products[products['no_of_ratings'].astype(str).str[0].str.isdigit()]\n",
    "\n",
    "# Converts the 'no_of_ratings' column to float after removing commas\n",
    "products[\"no_of_ratings\"] = products[\"no_of_ratings\"].str.replace(',', '').astype(float)"
   ]
  },
  {
   "cell_type": "markdown",
   "metadata": {},
   "source": [
    "### Check NaN values"
   ]
  },
  {
   "cell_type": "code",
   "execution_count": 16,
   "metadata": {},
   "outputs": [
    {
     "data": {
      "text/plain": [
       "name                  0\n",
       "main_category         0\n",
       "sub_category          0\n",
       "image                 0\n",
       "link                  0\n",
       "ratings               0\n",
       "no_of_ratings         0\n",
       "discount_price    34595\n",
       "actual_price       6761\n",
       "dtype: int64"
      ]
     },
     "execution_count": 16,
     "metadata": {},
     "output_type": "execute_result"
    }
   ],
   "source": [
    "products.isnull().sum()"
   ]
  },
  {
   "cell_type": "code",
   "execution_count": 17,
   "metadata": {},
   "outputs": [],
   "source": [
    "products = products.dropna(subset=['actual_price','discount_price'])"
   ]
  },
  {
   "cell_type": "markdown",
   "metadata": {},
   "source": [
    "### Creating `Discount` related columns "
   ]
  },
  {
   "cell_type": "code",
   "execution_count": 18,
   "metadata": {},
   "outputs": [],
   "source": [
    "# Make column with discount net value and discounting percent \n",
    "products['discount_value'] = products['actual_price'] - products['discount_price']\n",
    "products['discounting_percent'] = 1 - products['discount_price']/products['actual_price']"
   ]
  },
  {
   "cell_type": "code",
   "execution_count": 19,
   "metadata": {},
   "outputs": [
    {
     "name": "stdout",
     "output_type": "stream",
     "text": [
      "0              Lloyd\n",
      "1                 LG\n",
      "2                 LG\n",
      "3                 LG\n",
      "4            Carrier\n",
      "             ...    \n",
      "551579            BE\n",
      "551580        Adidas\n",
      "551581       Redwolf\n",
      "551582       Redwolf\n",
      "551584    Mothercare\n",
      "Name: brand, Length: 334963, dtype: object\n"
     ]
    }
   ],
   "source": [
    "products['brand'] = products['name'].str.split(' ').str[0]\n",
    "print(products['brand'])\n",
    "products['brand'] = products['brand'].str.lower().str.capitalize()"
   ]
  },
  {
   "cell_type": "code",
   "execution_count": 23,
   "metadata": {},
   "outputs": [],
   "source": [
    "dataset = pd.merge(products, df, on='brand', how='inner')"
   ]
  },
  {
   "cell_type": "code",
   "execution_count": 25,
   "metadata": {},
   "outputs": [],
   "source": [
    "dataset.to_csv('final_dataset.csv')"
   ]
  },
  {
   "cell_type": "code",
   "execution_count": null,
   "metadata": {},
   "outputs": [],
   "source": []
  }
 ],
 "metadata": {
  "kernelspec": {
   "display_name": "Python 3",
   "language": "python",
   "name": "python3"
  },
  "language_info": {
   "codemirror_mode": {
    "name": "ipython",
    "version": 3
   },
   "file_extension": ".py",
   "mimetype": "text/x-python",
   "name": "python",
   "nbconvert_exporter": "python",
   "pygments_lexer": "ipython3",
   "version": "3.12.0"
  }
 },
 "nbformat": 4,
 "nbformat_minor": 2
}
